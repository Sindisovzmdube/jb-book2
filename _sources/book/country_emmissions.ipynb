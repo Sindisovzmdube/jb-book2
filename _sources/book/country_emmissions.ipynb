{
 "cells": [
  {
   "cell_type": "markdown",
   "id": "20a2f045",
   "metadata": {},
   "source": [
    "![](C:\\Users\\sindi\\Pictures\\overpopulated.png)\n",
    "\n",
    "\n",
    "\n",
    "#### Some of the equations used in the analysis\n",
    "\n",
    "\n",
    "Conditional Variance:\n",
    "\\begin{equation}\n",
    "\\hat{\\sigma}^2 = \\frac{\\sum{\\hat{\\epsilon}}^2_i} {n – 2} = \\frac{\\sum(Y_i – \\hat{Y}_i)^2} {n – 2}\n",
    "\\end{equation}\n",
    "\n",
    "Conditional Standard Deviation:\n",
    "\\begin{equation}\n",
    "\\hat{\\sigma} = \\sqrt\\frac{\\sum(Y_i – \\hat{Y}_i)^2} {n – 2}\n",
    "\\end{equation}\n",
    "\n",
    "\n",
    "\n",
    "\n",
    "\n",
    "```\n",
    "jupyter-book myst init markdown.md\n",
    "```"
   ]
  },
  {
   "cell_type": "code",
   "execution_count": 1,
   "id": "f4b51f95",
   "metadata": {},
   "outputs": [
    {
     "name": "stdout",
     "output_type": "stream",
     "text": [
      "I'm sorry, I ran out of time\n"
     ]
    }
   ],
   "source": [
    "print(\"I'm sorry, I ran out of time\")"
   ]
  },
  {
   "cell_type": "markdown",
   "id": "74999cc1",
   "metadata": {},
   "source": [
    "![](![](C:\\Users\\sindi\\Pictures\\population_explosion.png)"
   ]
  }
 ],
 "metadata": {
  "jupytext": {
   "text_representation": {
    "extension": ".md",
    "format_name": "myst",
    "format_version": 0.13,
    "jupytext_version": "1.11.5"
   }
  },
  "kernelspec": {
   "display_name": "Python 3",
   "language": "python",
   "name": "python3"
  },
  "language_info": {
   "codemirror_mode": {
    "name": "ipython",
    "version": 3
   },
   "file_extension": ".py",
   "mimetype": "text/x-python",
   "name": "python",
   "nbconvert_exporter": "python",
   "pygments_lexer": "ipython3",
   "version": "3.9.15"
  },
  "source_map": [
   12,
   40,
   42
  ]
 },
 "nbformat": 4,
 "nbformat_minor": 5
}