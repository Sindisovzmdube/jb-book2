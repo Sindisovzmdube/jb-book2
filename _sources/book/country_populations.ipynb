{
 "cells": [
  {
   "cell_type": "markdown",
   "id": "11f430d2",
   "metadata": {},
   "source": [
    "## Data Visualization\n",
    "![](C:\\Users\\sindi\\Pictures\\overpopulated.png)\n",
    "\n",
    "```{figure} C:\\Users\\sindi\\Pictures\\overpopulated.png\n",
    "\n",
    "```\n",
    "Assignment Learning Goals: By the end of the module, students were expected to:\n",
    "\n",
    "- Choose effective visual channels for information display. - Visualize frequencies with bar plots.\n",
    "- Facet plots to explore more variables simultaneously.\n",
    "- Customize axes labels and scales. This assignment covers [Module 2](https://viz-learn.mds.ubc.ca/en/module2) of the online course:\n",
    "\n",
    "\n",
    "The Gapminder.csv dataset was used for most of the chapter. Read_csv from Pandas was used to load the dartaset."
   ]
  },
  {
   "cell_type": "code",
   "execution_count": 1,
   "id": "43e4e38f",
   "metadata": {},
   "outputs": [
    {
     "ename": "NameError",
     "evalue": "name 'pd' is not defined",
     "output_type": "error",
     "traceback": [
      "\u001b[0;31m---------------------------------------------------------------------------\u001b[0m",
      "\u001b[0;31mNameError\u001b[0m                                 Traceback (most recent call last)",
      "Cell \u001b[0;32mIn[1], line 1\u001b[0m\n\u001b[0;32m----> 1\u001b[0m gapminder_df \u001b[38;5;241m=\u001b[39m \u001b[43mpd\u001b[49m\u001b[38;5;241m.\u001b[39mread_csv(\u001b[38;5;124m\"\u001b[39m\u001b[38;5;124mdata/world-data-gapminder.csv\u001b[39m\u001b[38;5;124m\"\u001b[39m, parse_dates\u001b[38;5;241m=\u001b[39m[\u001b[38;5;124m'\u001b[39m\u001b[38;5;124myear\u001b[39m\u001b[38;5;124m'\u001b[39m])\n\u001b[1;32m      2\u001b[0m gapminder_df\u001b[38;5;241m.\u001b[39mhead()\n",
      "\u001b[0;31mNameError\u001b[0m: name 'pd' is not defined"
     ]
    }
   ],
   "source": [
    "gapminder_df = pd.read_csv(\"data/world-data-gapminder.csv\", parse_dates=['year'])\n",
    "gapminder_df.head()"
   ]
  },
  {
   "cell_type": "markdown",
   "id": "f491331a",
   "metadata": {},
   "source": [
    "![](C:\\Users\\sindi\\Downloads\\7GFY4xEtGEgGdR3WZNkL--1--f0wme.jpg)\n",
    "\n",
    "#### Some useful equations used in calculations\n",
    "\n",
    "$\n",
    "\\displaystyle \\mu_A= \\frac{(n_1+n_2+n_3 \\cdots+n_m)}{m}=\\frac{1}{m}\\sum_{i=1}^m n_i\n",
    "$\n",
    "\n",
    "Sample regression line:\n",
    "\\begin{equation}\n",
    "\\hat{Y}_i = \\hat{\\beta}_0 + \\hat{\\beta}_1 X_i + \\hat{\\epsilon}_i\n",
    "\\end{equation}\n",
    "\n",
    "\n",
    "\"cells\": [\n",
    "{\n",
    "\"attachments\": {},\n",
    "\"cell_type\": \"markdown\",\n",
    "\"metadata\": {},\n",
    "\"source\": [\n",
    "\"<img src=\"image/logo.png\" width=300 height=890 align ='left' />\"\n",
    "]"
   ]
  }
 ],
 "metadata": {
  "jupytext": {
   "text_representation": {
    "extension": ".md",
    "format_name": "myst",
    "format_version": 0.13,
    "jupytext_version": "1.11.5"
   }
  },
  "kernelspec": {
   "display_name": "Python 3",
   "language": "python",
   "name": "python3"
  },
  "language_info": {
   "codemirror_mode": {
    "name": "ipython",
    "version": 3
   },
   "file_extension": ".py",
   "mimetype": "text/x-python",
   "name": "python",
   "nbconvert_exporter": "python",
   "pygments_lexer": "ipython3",
   "version": "3.9.15"
  },
  "source_map": [
   12,
   30,
   33
  ]
 },
 "nbformat": 4,
 "nbformat_minor": 5
}